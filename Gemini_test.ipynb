{
 "cells": [
  {
   "cell_type": "code",
   "execution_count": 1,
   "id": "7bc5b37c-0b17-42ad-84c8-6fd198ef7af7",
   "metadata": {},
   "outputs": [
    {
     "name": "stdout",
     "output_type": "stream",
     "text": [
      "Collecting google-genai\n",
      "  Downloading google_genai-1.24.0-py3-none-any.whl.metadata (40 kB)\n",
      "Collecting anyio<5.0.0,>=4.8.0 (from google-genai)\n",
      "  Using cached anyio-4.9.0-py3-none-any.whl.metadata (4.7 kB)\n",
      "Collecting google-auth<3.0.0,>=2.14.1 (from google-genai)\n",
      "  Downloading google_auth-2.40.3-py2.py3-none-any.whl.metadata (6.2 kB)\n",
      "Collecting httpx<1.0.0,>=0.28.1 (from google-genai)\n",
      "  Using cached httpx-0.28.1-py3-none-any.whl.metadata (7.1 kB)\n",
      "Requirement already satisfied: pydantic<3.0.0,>=2.0.0 in c:\\users\\suntech\\anaconda3\\lib\\site-packages (from google-genai) (2.8.2)\n",
      "Requirement already satisfied: requests<3.0.0,>=2.28.1 in c:\\users\\suntech\\anaconda3\\lib\\site-packages (from google-genai) (2.32.3)\n",
      "Requirement already satisfied: tenacity<9.0.0,>=8.2.3 in c:\\users\\suntech\\anaconda3\\lib\\site-packages (from google-genai) (8.2.3)\n",
      "Collecting websockets<15.1.0,>=13.0.0 (from google-genai)\n",
      "  Downloading websockets-15.0.1-cp312-cp312-win_amd64.whl.metadata (7.0 kB)\n",
      "Requirement already satisfied: typing-extensions<5.0.0,>=4.11.0 in c:\\users\\suntech\\anaconda3\\lib\\site-packages (from google-genai) (4.11.0)\n",
      "Requirement already satisfied: idna>=2.8 in c:\\users\\suntech\\anaconda3\\lib\\site-packages (from anyio<5.0.0,>=4.8.0->google-genai) (3.7)\n",
      "Requirement already satisfied: sniffio>=1.1 in c:\\users\\suntech\\anaconda3\\lib\\site-packages (from anyio<5.0.0,>=4.8.0->google-genai) (1.3.0)\n",
      "Requirement already satisfied: cachetools<6.0,>=2.0.0 in c:\\users\\suntech\\anaconda3\\lib\\site-packages (from google-auth<3.0.0,>=2.14.1->google-genai) (5.3.3)\n",
      "Requirement already satisfied: pyasn1-modules>=0.2.1 in c:\\users\\suntech\\anaconda3\\lib\\site-packages (from google-auth<3.0.0,>=2.14.1->google-genai) (0.2.8)\n",
      "Collecting rsa<5,>=3.1.4 (from google-auth<3.0.0,>=2.14.1->google-genai)\n",
      "  Downloading rsa-4.9.1-py3-none-any.whl.metadata (5.6 kB)\n",
      "Requirement already satisfied: certifi in c:\\users\\suntech\\anaconda3\\lib\\site-packages (from httpx<1.0.0,>=0.28.1->google-genai) (2025.1.31)\n",
      "Requirement already satisfied: httpcore==1.* in c:\\users\\suntech\\anaconda3\\lib\\site-packages (from httpx<1.0.0,>=0.28.1->google-genai) (1.0.2)\n",
      "Requirement already satisfied: h11<0.15,>=0.13 in c:\\users\\suntech\\anaconda3\\lib\\site-packages (from httpcore==1.*->httpx<1.0.0,>=0.28.1->google-genai) (0.14.0)\n",
      "Requirement already satisfied: annotated-types>=0.4.0 in c:\\users\\suntech\\anaconda3\\lib\\site-packages (from pydantic<3.0.0,>=2.0.0->google-genai) (0.6.0)\n",
      "Requirement already satisfied: pydantic-core==2.20.1 in c:\\users\\suntech\\anaconda3\\lib\\site-packages (from pydantic<3.0.0,>=2.0.0->google-genai) (2.20.1)\n",
      "Requirement already satisfied: charset-normalizer<4,>=2 in c:\\users\\suntech\\anaconda3\\lib\\site-packages (from requests<3.0.0,>=2.28.1->google-genai) (3.3.2)\n",
      "Requirement already satisfied: urllib3<3,>=1.21.1 in c:\\users\\suntech\\anaconda3\\lib\\site-packages (from requests<3.0.0,>=2.28.1->google-genai) (2.2.3)\n",
      "Requirement already satisfied: pyasn1<0.5.0,>=0.4.6 in c:\\users\\suntech\\anaconda3\\lib\\site-packages (from pyasn1-modules>=0.2.1->google-auth<3.0.0,>=2.14.1->google-genai) (0.4.8)\n",
      "Downloading google_genai-1.24.0-py3-none-any.whl (226 kB)\n",
      "Using cached anyio-4.9.0-py3-none-any.whl (100 kB)\n",
      "Downloading google_auth-2.40.3-py2.py3-none-any.whl (216 kB)\n",
      "Using cached httpx-0.28.1-py3-none-any.whl (73 kB)\n",
      "Downloading websockets-15.0.1-cp312-cp312-win_amd64.whl (176 kB)\n",
      "Downloading rsa-4.9.1-py3-none-any.whl (34 kB)\n",
      "Installing collected packages: websockets, rsa, anyio, httpx, google-auth, google-genai\n",
      "  Attempting uninstall: anyio\n",
      "    Found existing installation: anyio 4.2.0\n",
      "    Uninstalling anyio-4.2.0:\n",
      "      Successfully uninstalled anyio-4.2.0\n",
      "  Attempting uninstall: httpx\n",
      "    Found existing installation: httpx 0.27.0\n",
      "    Uninstalling httpx-0.27.0:\n",
      "      Successfully uninstalled httpx-0.27.0\n",
      "Successfully installed anyio-4.9.0 google-auth-2.40.3 google-genai-1.24.0 httpx-0.28.1 rsa-4.9.1 websockets-15.0.1\n",
      "Note: you may need to restart the kernel to use updated packages.\n"
     ]
    }
   ],
   "source": [
    "pip install google-genai"
   ]
  },
  {
   "cell_type": "code",
   "execution_count": 2,
   "id": "24e4c22e-0b75-4a8f-a13d-31d314832ac1",
   "metadata": {},
   "outputs": [],
   "source": [
    "from google import genai "
   ]
  },
  {
   "cell_type": "code",
   "execution_count": 3,
   "id": "8592d7d2-179f-493b-bc5b-877e1e0c3875",
   "metadata": {},
   "outputs": [
    {
     "name": "stdout",
     "output_type": "stream",
     "text": [
      "The **Gemini API** is an Application Programming Interface (API) provided by Google that allows developers to access and integrate the capabilities of Google's Gemini family of large language models (LLMs) into their own applications, services, and workflows.\n",
      "\n",
      "In simpler terms, it's a set of tools and rules that lets your software \"talk\" to Google's powerful Gemini AI models and ask them to perform tasks.\n",
      "\n",
      "Here's a breakdown of what that means:\n",
      "\n",
      "### What is Gemini (the Model)?\n",
      "\n",
      "Before the API, understand the model: Gemini is Google's most advanced and capable family of AI models, designed to be:\n",
      "*   **Multimodal:** It can understand, operate across, and combine different types of information, including text, images, audio, and video.\n",
      "*   **Highly Performant:** It's built for complex reasoning, understanding nuances, and generating high-quality output.\n",
      "*   **Scalable:** Available in different sizes (Nano, Pro, Ultra) for various use cases, from on-device to cloud-based enterprise solutions.\n",
      "\n",
      "### What the Gemini API Does:\n",
      "\n",
      "The API serves as the bridge between your code and these powerful Gemini models. It allows you to:\n",
      "\n",
      "1.  **Send Prompts:** Send text, image, or even multi-turn conversational prompts to the Gemini model.\n",
      "2.  **Receive Responses:** Get back AI-generated text, code, image descriptions, summaries, answers to questions, or other relevant outputs.\n",
      "3.  **Integrate AI Capabilities:** Embed sophisticated AI functionalities directly into your applications without needing to train or host large AI models yourself.\n",
      "\n",
      "### Key Features and Capabilities Accessible via the API:\n",
      "\n",
      "*   **Generative AI:**\n",
      "    *   **Text Generation:** Create articles, stories, poems, scripts, emails, marketing copy, etc.\n",
      "    *   **Code Generation:** Write code snippets, explain existing code, or convert code between languages.\n",
      "    *   **Question Answering:** Provide factual answers based on provided context or general knowledge.\n",
      "    *   **Summarization:** Condense long documents, articles, or conversations into concise summaries.\n",
      "    *   **Translation:** Translate text between languages (though dedicated translation APIs might be more specialized).\n",
      "*   **Multimodal Input (Current primary focus for most public APIs):**\n",
      "    *   **Image Understanding:** You can send images along with text prompts, allowing Gemini to analyze the image content and generate text responses related to it (e.g., \"Describe this image,\" \"What's happening here?\", \"What kind of dog is this?\").\n",
      "*   **Conversational AI:** Build sophisticated chatbots and virtual assistants that can maintain context over multiple turns.\n",
      "*   **Function Calling:** A powerful feature that allows the Gemini model to identify when a user's request can be fulfilled by calling an external tool or API (e.g., checking weather, booking a flight, retrieving data from a database). The model generates the function call, and your application executes it.\n",
      "*   **Safety Features:** Includes built-in moderation to filter out harmful content, aligning with Google's responsible AI principles.\n",
      "*   **Model Selection:** Access different versions of Gemini (e.g., `gemini-pro`, `gemini-pro-vision`) suitable for various tasks and performance requirements.\n",
      "\n",
      "### How Developers Use It:\n",
      "\n",
      "Developers typically interact with the Gemini API through:\n",
      "\n",
      "*   **Client Libraries (SDKs):** Google provides SDKs for popular programming languages like Python, Node.js, Go, Java, Swift, and Kotlin, simplifying the process of making API calls.\n",
      "*   **REST API:** For more direct control or in environments where SDKs aren't available, developers can make direct HTTP requests to the API endpoints.\n",
      "*   **Google AI Studio:** A web-based tool for rapid prototyping and testing of prompts with Gemini, which can then generate code snippets for integration.\n",
      "*   **Vertex AI:** For enterprise-grade deployments, MLOps, fine-tuning, and robust production-ready solutions, Gemini is also available through Google Cloud's Vertex AI platform.\n",
      "\n",
      "### Common Use Cases:\n",
      "\n",
      "*   **Chatbots and Virtual Assistants:** Creating more intelligent and versatile conversational agents.\n",
      "*   **Content Creation Tools:** Generating marketing copy, blog posts, social media updates, or creative writing.\n",
      "*   **Education:** Building interactive learning tools, tutoring systems, or content summarizers for students.\n",
      "*   **Customer Service:** Enhancing support systems with automated responses or agent assist tools.\n",
      "*   **Developer Tools:** Powering code completion, documentation generation, or code review assistants.\n",
      "*   **Accessibility:** Creating tools that describe images for visually impaired users.\n",
      "*   **Gaming:** Generating dynamic dialogue for NPCs or creating interactive story elements.\n",
      "\n",
      "In essence, the Gemini API opens up the immense power of Google's state-of-the-art AI models to developers, enabling them to build innovative and intelligent applications across a wide range of industries and use cases.\n"
     ]
    }
   ],
   "source": [
    "client = genai.Client()\n",
    "\n",
    "response = client.models.generate_content(\n",
    "    model = \"gemini-2.5-flash\",\n",
    "    contents = \"What is gemini api?\",\n",
    ")\n",
    "\n",
    "print(response.text)"
   ]
  },
  {
   "cell_type": "code",
   "execution_count": null,
   "id": "2a6be430-cbd1-4836-9c73-92b929141c8a",
   "metadata": {},
   "outputs": [],
   "source": []
  }
 ],
 "metadata": {
  "kernelspec": {
   "display_name": "Python 3",
   "language": "python",
   "name": "python3"
  },
  "language_info": {
   "codemirror_mode": {
    "name": "ipython",
    "version": 3
   },
   "file_extension": ".py",
   "mimetype": "text/x-python",
   "name": "python",
   "nbconvert_exporter": "python",
   "pygments_lexer": "ipython3",
   "version": "3.13.3"
  }
 },
 "nbformat": 4,
 "nbformat_minor": 5
}
