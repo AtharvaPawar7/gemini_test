{
 "cells": [
  {
   "cell_type": "code",
   "execution_count": 1,
   "id": "7bc5b37c-0b17-42ad-84c8-6fd198ef7af7",
   "metadata": {},
   "outputs": [
    {
     "name": "stdout",
     "output_type": "stream",
     "text": [
      "Collecting google-genai\n",
      "  Downloading google_genai-1.24.0-py3-none-any.whl.metadata (40 kB)\n",
      "Collecting anyio<5.0.0,>=4.8.0 (from google-genai)\n",
      "  Using cached anyio-4.9.0-py3-none-any.whl.metadata (4.7 kB)\n",
      "Collecting google-auth<3.0.0,>=2.14.1 (from google-genai)\n",
      "  Downloading google_auth-2.40.3-py2.py3-none-any.whl.metadata (6.2 kB)\n",
      "Collecting httpx<1.0.0,>=0.28.1 (from google-genai)\n",
      "  Using cached httpx-0.28.1-py3-none-any.whl.metadata (7.1 kB)\n",
      "Requirement already satisfied: pydantic<3.0.0,>=2.0.0 in c:\\users\\suntech\\anaconda3\\lib\\site-packages (from google-genai) (2.8.2)\n",
      "Requirement already satisfied: requests<3.0.0,>=2.28.1 in c:\\users\\suntech\\anaconda3\\lib\\site-packages (from google-genai) (2.32.3)\n",
      "Requirement already satisfied: tenacity<9.0.0,>=8.2.3 in c:\\users\\suntech\\anaconda3\\lib\\site-packages (from google-genai) (8.2.3)\n",
      "Collecting websockets<15.1.0,>=13.0.0 (from google-genai)\n",
      "  Downloading websockets-15.0.1-cp312-cp312-win_amd64.whl.metadata (7.0 kB)\n",
      "Requirement already satisfied: typing-extensions<5.0.0,>=4.11.0 in c:\\users\\suntech\\anaconda3\\lib\\site-packages (from google-genai) (4.11.0)\n",
      "Requirement already satisfied: idna>=2.8 in c:\\users\\suntech\\anaconda3\\lib\\site-packages (from anyio<5.0.0,>=4.8.0->google-genai) (3.7)\n",
      "Requirement already satisfied: sniffio>=1.1 in c:\\users\\suntech\\anaconda3\\lib\\site-packages (from anyio<5.0.0,>=4.8.0->google-genai) (1.3.0)\n",
      "Requirement already satisfied: cachetools<6.0,>=2.0.0 in c:\\users\\suntech\\anaconda3\\lib\\site-packages (from google-auth<3.0.0,>=2.14.1->google-genai) (5.3.3)\n",
      "Requirement already satisfied: pyasn1-modules>=0.2.1 in c:\\users\\suntech\\anaconda3\\lib\\site-packages (from google-auth<3.0.0,>=2.14.1->google-genai) (0.2.8)\n",
      "Collecting rsa<5,>=3.1.4 (from google-auth<3.0.0,>=2.14.1->google-genai)\n",
      "  Downloading rsa-4.9.1-py3-none-any.whl.metadata (5.6 kB)\n",
      "Requirement already satisfied: certifi in c:\\users\\suntech\\anaconda3\\lib\\site-packages (from httpx<1.0.0,>=0.28.1->google-genai) (2025.1.31)\n",
      "Requirement already satisfied: httpcore==1.* in c:\\users\\suntech\\anaconda3\\lib\\site-packages (from httpx<1.0.0,>=0.28.1->google-genai) (1.0.2)\n",
      "Requirement already satisfied: h11<0.15,>=0.13 in c:\\users\\suntech\\anaconda3\\lib\\site-packages (from httpcore==1.*->httpx<1.0.0,>=0.28.1->google-genai) (0.14.0)\n",
      "Requirement already satisfied: annotated-types>=0.4.0 in c:\\users\\suntech\\anaconda3\\lib\\site-packages (from pydantic<3.0.0,>=2.0.0->google-genai) (0.6.0)\n",
      "Requirement already satisfied: pydantic-core==2.20.1 in c:\\users\\suntech\\anaconda3\\lib\\site-packages (from pydantic<3.0.0,>=2.0.0->google-genai) (2.20.1)\n",
      "Requirement already satisfied: charset-normalizer<4,>=2 in c:\\users\\suntech\\anaconda3\\lib\\site-packages (from requests<3.0.0,>=2.28.1->google-genai) (3.3.2)\n",
      "Requirement already satisfied: urllib3<3,>=1.21.1 in c:\\users\\suntech\\anaconda3\\lib\\site-packages (from requests<3.0.0,>=2.28.1->google-genai) (2.2.3)\n",
      "Requirement already satisfied: pyasn1<0.5.0,>=0.4.6 in c:\\users\\suntech\\anaconda3\\lib\\site-packages (from pyasn1-modules>=0.2.1->google-auth<3.0.0,>=2.14.1->google-genai) (0.4.8)\n",
      "Downloading google_genai-1.24.0-py3-none-any.whl (226 kB)\n",
      "Using cached anyio-4.9.0-py3-none-any.whl (100 kB)\n",
      "Downloading google_auth-2.40.3-py2.py3-none-any.whl (216 kB)\n",
      "Using cached httpx-0.28.1-py3-none-any.whl (73 kB)\n",
      "Downloading websockets-15.0.1-cp312-cp312-win_amd64.whl (176 kB)\n",
      "Downloading rsa-4.9.1-py3-none-any.whl (34 kB)\n",
      "Installing collected packages: websockets, rsa, anyio, httpx, google-auth, google-genai\n",
      "  Attempting uninstall: anyio\n",
      "    Found existing installation: anyio 4.2.0\n",
      "    Uninstalling anyio-4.2.0:\n",
      "      Successfully uninstalled anyio-4.2.0\n",
      "  Attempting uninstall: httpx\n",
      "    Found existing installation: httpx 0.27.0\n",
      "    Uninstalling httpx-0.27.0:\n",
      "      Successfully uninstalled httpx-0.27.0\n",
      "Successfully installed anyio-4.9.0 google-auth-2.40.3 google-genai-1.24.0 httpx-0.28.1 rsa-4.9.1 websockets-15.0.1\n",
      "Note: you may need to restart the kernel to use updated packages.\n"
     ]
    }
   ],
   "source": [
    "pip install google-genai"
   ]
  },
  {
   "cell_type": "code",
   "execution_count": 1,
   "id": "24e4c22e-0b75-4a8f-a13d-31d314832ac1",
   "metadata": {},
   "outputs": [],
   "source": [
    "from google import genai "
   ]
  },
  {
   "cell_type": "code",
   "execution_count": 3,
   "id": "8592d7d2-179f-493b-bc5b-877e1e0c3875",
   "metadata": {},
   "outputs": [
    {
     "ename": "ValueError",
     "evalue": "Missing key inputs argument! To use the Google AI API, provide (`api_key`) arguments. To use the Google Cloud API, provide (`vertexai`, `project` & `location`) arguments.",
     "output_type": "error",
     "traceback": [
      "\u001b[1;31m---------------------------------------------------------------------------\u001b[0m",
      "\u001b[1;31mValueError\u001b[0m                                Traceback (most recent call last)",
      "Cell \u001b[1;32mIn[3], line 1\u001b[0m\n\u001b[1;32m----> 1\u001b[0m client \u001b[38;5;241m=\u001b[39m genai\u001b[38;5;241m.\u001b[39mClient()\n\u001b[0;32m      3\u001b[0m response \u001b[38;5;241m=\u001b[39m client\u001b[38;5;241m.\u001b[39mmodels\u001b[38;5;241m.\u001b[39mgenerate_content(\n\u001b[0;32m      4\u001b[0m     model \u001b[38;5;241m=\u001b[39m \u001b[38;5;124m\"\u001b[39m\u001b[38;5;124mgemini-2.5-flash\u001b[39m\u001b[38;5;124m\"\u001b[39m,\n\u001b[0;32m      5\u001b[0m     contents \u001b[38;5;241m=\u001b[39m \u001b[38;5;124m\"\u001b[39m\u001b[38;5;124mWhat is gemini api?\u001b[39m\u001b[38;5;124m\"\u001b[39m,\n\u001b[0;32m      6\u001b[0m )\n\u001b[0;32m      8\u001b[0m \u001b[38;5;28mprint\u001b[39m(response)\n",
      "File \u001b[1;32m~\\anaconda3\\Lib\\site-packages\\google\\genai\\client.py:219\u001b[0m, in \u001b[0;36mClient.__init__\u001b[1;34m(self, vertexai, api_key, credentials, project, location, debug_config, http_options)\u001b[0m\n\u001b[0;32m    216\u001b[0m   \u001b[38;5;28;01melse\u001b[39;00m:\n\u001b[0;32m    217\u001b[0m     http_options \u001b[38;5;241m=\u001b[39m HttpOptions(base_url\u001b[38;5;241m=\u001b[39mbase_url)\n\u001b[1;32m--> 219\u001b[0m \u001b[38;5;28mself\u001b[39m\u001b[38;5;241m.\u001b[39m_api_client \u001b[38;5;241m=\u001b[39m \u001b[38;5;28mself\u001b[39m\u001b[38;5;241m.\u001b[39m_get_api_client(\n\u001b[0;32m    220\u001b[0m     vertexai\u001b[38;5;241m=\u001b[39mvertexai,\n\u001b[0;32m    221\u001b[0m     api_key\u001b[38;5;241m=\u001b[39mapi_key,\n\u001b[0;32m    222\u001b[0m     credentials\u001b[38;5;241m=\u001b[39mcredentials,\n\u001b[0;32m    223\u001b[0m     project\u001b[38;5;241m=\u001b[39mproject,\n\u001b[0;32m    224\u001b[0m     location\u001b[38;5;241m=\u001b[39mlocation,\n\u001b[0;32m    225\u001b[0m     debug_config\u001b[38;5;241m=\u001b[39m\u001b[38;5;28mself\u001b[39m\u001b[38;5;241m.\u001b[39m_debug_config,\n\u001b[0;32m    226\u001b[0m     http_options\u001b[38;5;241m=\u001b[39mhttp_options,\n\u001b[0;32m    227\u001b[0m )\n\u001b[0;32m    229\u001b[0m \u001b[38;5;28mself\u001b[39m\u001b[38;5;241m.\u001b[39m_aio \u001b[38;5;241m=\u001b[39m AsyncClient(\u001b[38;5;28mself\u001b[39m\u001b[38;5;241m.\u001b[39m_api_client)\n\u001b[0;32m    230\u001b[0m \u001b[38;5;28mself\u001b[39m\u001b[38;5;241m.\u001b[39m_models \u001b[38;5;241m=\u001b[39m Models(\u001b[38;5;28mself\u001b[39m\u001b[38;5;241m.\u001b[39m_api_client)\n",
      "File \u001b[1;32m~\\anaconda3\\Lib\\site-packages\\google\\genai\\client.py:265\u001b[0m, in \u001b[0;36mClient._get_api_client\u001b[1;34m(vertexai, api_key, credentials, project, location, debug_config, http_options)\u001b[0m\n\u001b[0;32m    248\u001b[0m \u001b[38;5;28;01mif\u001b[39;00m debug_config \u001b[38;5;129;01mand\u001b[39;00m debug_config\u001b[38;5;241m.\u001b[39mclient_mode \u001b[38;5;129;01min\u001b[39;00m [\n\u001b[0;32m    249\u001b[0m     \u001b[38;5;124m'\u001b[39m\u001b[38;5;124mrecord\u001b[39m\u001b[38;5;124m'\u001b[39m,\n\u001b[0;32m    250\u001b[0m     \u001b[38;5;124m'\u001b[39m\u001b[38;5;124mreplay\u001b[39m\u001b[38;5;124m'\u001b[39m,\n\u001b[0;32m    251\u001b[0m     \u001b[38;5;124m'\u001b[39m\u001b[38;5;124mauto\u001b[39m\u001b[38;5;124m'\u001b[39m,\n\u001b[0;32m    252\u001b[0m ]:\n\u001b[0;32m    253\u001b[0m   \u001b[38;5;28;01mreturn\u001b[39;00m ReplayApiClient(\n\u001b[0;32m    254\u001b[0m       mode\u001b[38;5;241m=\u001b[39mdebug_config\u001b[38;5;241m.\u001b[39mclient_mode,  \u001b[38;5;66;03m# type: ignore[arg-type]\u001b[39;00m\n\u001b[0;32m    255\u001b[0m       replay_id\u001b[38;5;241m=\u001b[39mdebug_config\u001b[38;5;241m.\u001b[39mreplay_id,  \u001b[38;5;66;03m# type: ignore[arg-type]\u001b[39;00m\n\u001b[1;32m   (...)\u001b[0m\n\u001b[0;32m    262\u001b[0m       http_options\u001b[38;5;241m=\u001b[39mhttp_options,\n\u001b[0;32m    263\u001b[0m   )\n\u001b[1;32m--> 265\u001b[0m \u001b[38;5;28;01mreturn\u001b[39;00m BaseApiClient(\n\u001b[0;32m    266\u001b[0m     vertexai\u001b[38;5;241m=\u001b[39mvertexai,\n\u001b[0;32m    267\u001b[0m     api_key\u001b[38;5;241m=\u001b[39mapi_key,\n\u001b[0;32m    268\u001b[0m     credentials\u001b[38;5;241m=\u001b[39mcredentials,\n\u001b[0;32m    269\u001b[0m     project\u001b[38;5;241m=\u001b[39mproject,\n\u001b[0;32m    270\u001b[0m     location\u001b[38;5;241m=\u001b[39mlocation,\n\u001b[0;32m    271\u001b[0m     http_options\u001b[38;5;241m=\u001b[39mhttp_options,\n\u001b[0;32m    272\u001b[0m )\n",
      "File \u001b[1;32m~\\anaconda3\\Lib\\site-packages\\google\\genai\\_api_client.py:544\u001b[0m, in \u001b[0;36mBaseApiClient.__init__\u001b[1;34m(self, vertexai, api_key, credentials, project, location, http_options)\u001b[0m\n\u001b[0;32m    542\u001b[0m \u001b[38;5;28;01melse\u001b[39;00m:  \u001b[38;5;66;03m# Implicit initialization or missing arguments.\u001b[39;00m\n\u001b[0;32m    543\u001b[0m   \u001b[38;5;28;01mif\u001b[39;00m \u001b[38;5;129;01mnot\u001b[39;00m \u001b[38;5;28mself\u001b[39m\u001b[38;5;241m.\u001b[39mapi_key:\n\u001b[1;32m--> 544\u001b[0m     \u001b[38;5;28;01mraise\u001b[39;00m \u001b[38;5;167;01mValueError\u001b[39;00m(\n\u001b[0;32m    545\u001b[0m         \u001b[38;5;124m'\u001b[39m\u001b[38;5;124mMissing key inputs argument! To use the Google AI API,\u001b[39m\u001b[38;5;124m'\u001b[39m\n\u001b[0;32m    546\u001b[0m         \u001b[38;5;124m'\u001b[39m\u001b[38;5;124m provide (`api_key`) arguments. To use the Google Cloud API,\u001b[39m\u001b[38;5;124m'\u001b[39m\n\u001b[0;32m    547\u001b[0m         \u001b[38;5;124m'\u001b[39m\u001b[38;5;124m provide (`vertexai`, `project` & `location`) arguments.\u001b[39m\u001b[38;5;124m'\u001b[39m\n\u001b[0;32m    548\u001b[0m     )\n\u001b[0;32m    549\u001b[0m   \u001b[38;5;28mself\u001b[39m\u001b[38;5;241m.\u001b[39m_http_options\u001b[38;5;241m.\u001b[39mbase_url \u001b[38;5;241m=\u001b[39m \u001b[38;5;124m'\u001b[39m\u001b[38;5;124mhttps://generativelanguage.googleapis.com/\u001b[39m\u001b[38;5;124m'\u001b[39m\n\u001b[0;32m    550\u001b[0m   \u001b[38;5;28mself\u001b[39m\u001b[38;5;241m.\u001b[39m_http_options\u001b[38;5;241m.\u001b[39mapi_version \u001b[38;5;241m=\u001b[39m \u001b[38;5;124m'\u001b[39m\u001b[38;5;124mv1beta\u001b[39m\u001b[38;5;124m'\u001b[39m\n",
      "\u001b[1;31mValueError\u001b[0m: Missing key inputs argument! To use the Google AI API, provide (`api_key`) arguments. To use the Google Cloud API, provide (`vertexai`, `project` & `location`) arguments."
     ]
    }
   ],
   "source": [
    "client = genai.Client()\n",
    "\n",
    "response = client.models.generate_content(\n",
    "    model = \"gemini-2.5-flash\",\n",
    "    contents = \"What is gemini api?\",\n",
    ")\n",
    "\n",
    "print(response)"
   ]
  },
  {
   "cell_type": "code",
   "execution_count": null,
   "id": "2a6be430-cbd1-4836-9c73-92b929141c8a",
   "metadata": {},
   "outputs": [],
   "source": []
  }
 ],
 "metadata": {
  "kernelspec": {
   "display_name": "Python 3 (ipykernel)",
   "language": "python",
   "name": "python3"
  },
  "language_info": {
   "codemirror_mode": {
    "name": "ipython",
    "version": 3
   },
   "file_extension": ".py",
   "mimetype": "text/x-python",
   "name": "python",
   "nbconvert_exporter": "python",
   "pygments_lexer": "ipython3",
   "version": "3.12.3"
  }
 },
 "nbformat": 4,
 "nbformat_minor": 5
}
